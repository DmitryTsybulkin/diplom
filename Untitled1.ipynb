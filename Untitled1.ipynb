{
 "cells": [
  {
   "cell_type": "code",
   "execution_count": 3,
   "metadata": {},
   "outputs": [
    {
     "name": "stderr",
     "output_type": "stream",
     "text": [
      "Unable to open EPSG support file gcs.csv.  Try setting the GDAL_DATA environment variable to point to the directory containing EPSG csv files.\n"
     ]
    }
   ],
   "source": [
    "import numpy as np \n",
    "from sklearn.decomposition import PCA\n",
    "import rasterio\n",
    "from matplotlib import pyplot as plt\n",
    "import pandas as pd\n",
    "from rasterio.transform import from_origin\n",
    "\n",
    "import geopandas\n",
    "from shapely.geometry import Point\n",
    "import fiona\n",
    "\n",
    "# Непосредственно работа со всеми данными после строки с множеством знаков '=' не актуально\n",
    "# В начале: пробы - тесты (возможно, ошибки)\n"
   ]
  },
  {
   "cell_type": "code",
   "execution_count": 2,
   "metadata": {},
   "outputs": [],
   "source": [
    "path = 'layers/in/' # путь до входных слоёв"
   ]
  },
  {
   "cell_type": "code",
   "execution_count": 4,
   "metadata": {},
   "outputs": [],
   "source": [
    "cosmo = rasterio.open(path + '02.band2.asc')\n",
    "bio = rasterio.open(path + 'bio_' + '1' + '.asc')"
   ]
  },
  {
   "cell_type": "code",
   "execution_count": 12,
   "metadata": {},
   "outputs": [],
   "source": [
    "cosmo_arr = np.array(cosmo.read()).ravel()\n",
    "bio_arr = np.array(bio.read()).ravel()"
   ]
  },
  {
   "cell_type": "code",
   "execution_count": 13,
   "metadata": {},
   "outputs": [],
   "source": [
    "for i in range(0, len(cosmo_arr)-1):\n",
    "    if bio_arr[i] == cosmo.nodata:\n",
    "        cosmo_arr[i] = cosmo.nodata"
   ]
  },
  {
   "cell_type": "code",
   "execution_count": 14,
   "metadata": {},
   "outputs": [],
   "source": [
    "for i in range(0, len(bio_arr)-1):\n",
    "    if cosmo_arr[i] == bio.nodata:\n",
    "        bio_arr[i] = bio.nodata\n",
    "# рабочий вариант только везде заменяю но дата на "
   ]
  },
  {
   "cell_type": "code",
   "execution_count": 36,
   "metadata": {},
   "outputs": [
    {
     "data": {
      "text/plain": [
       "9780108"
      ]
     },
     "execution_count": 36,
     "metadata": {},
     "output_type": "execute_result"
    }
   ],
   "source": [
    "len(bio_arr)"
   ]
  },
  {
   "cell_type": "code",
   "execution_count": 39,
   "metadata": {},
   "outputs": [
    {
     "data": {
      "text/plain": [
       "-9999.0"
      ]
     },
     "execution_count": 39,
     "metadata": {},
     "output_type": "execute_result"
    }
   ],
   "source": [
    "# cosmo_arr[0]"
   ]
  },
  {
   "cell_type": "code",
   "execution_count": 25,
   "metadata": {},
   "outputs": [],
   "source": [
    "array_of_arrays = []\n",
    "array_of_arrays.append(cosmo_arr)\n",
    "array_of_arrays.append(bio_arr)"
   ]
  },
  {
   "cell_type": "code",
   "execution_count": 26,
   "metadata": {},
   "outputs": [],
   "source": [
    "ix = 0 # для именования файлов\n",
    "for res_ras in array_of_arrays:\n",
    "    raster = raster_arr[ix]\n",
    "    with rasterio.open('layers/out/test_method/layer_' + str(ix) + '.asc', 'w', \n",
    "                       driver=raster.driver, \n",
    "                       width=raster.width, height=raster.height, \n",
    "                       count=raster.count, \n",
    "                       dtype=raster.dtypes[0],\n",
    "                       nodata=res_ras[0],\n",
    "                       transform=raster.transform) as dst:\n",
    "            dst.write(np.array(res_ras).reshape(raster.shape), 1)\n",
    "    ix = ix + 1"
   ]
  },
  {
   "cell_type": "code",
   "execution_count": null,
   "metadata": {},
   "outputs": [],
   "source": [
    "# ----------------------------------------------------------------------------"
   ]
  },
  {
   "cell_type": "code",
   "execution_count": 3,
   "metadata": {},
   "outputs": [],
   "source": [
    "raster_arr = [] # тут будут растры\n",
    "array_of_arrays = [] # тут будут 1N массивы этих растров"
   ]
  },
  {
   "cell_type": "code",
   "execution_count": 4,
   "metadata": {},
   "outputs": [],
   "source": [
    "for i in range(2, 11):\n",
    "    for j in range(1, 8):\n",
    "        filename = str(i) + '.band' + str(j) + '.asc'\n",
    "        if i != 10:\n",
    "            filename = '0' + filename\n",
    "        raster_arr.append(rasterio.open(path + filename))\n",
    "        \n",
    "for i in range(1, 20):\n",
    "    raster_arr.append(rasterio.open(path + 'bio_' + str(i) + '.asc'))\n",
    "    \n",
    "raster_arr.append(rasterio.open(path + 'alt.asc'))\n",
    "raster_arr.append(rasterio.open(path + 'krutizna.asc'))"
   ]
  },
  {
   "cell_type": "code",
   "execution_count": 5,
   "metadata": {
    "scrolled": true
   },
   "outputs": [
    {
     "name": "stdout",
     "output_type": "stream",
     "text": [
      "1\n",
      "2\n",
      "3\n",
      "4\n",
      "5\n",
      "6\n",
      "7\n",
      "8\n",
      "9\n",
      "10\n",
      "11\n",
      "12\n",
      "13\n",
      "14\n",
      "15\n",
      "16\n",
      "17\n",
      "18\n",
      "19\n",
      "20\n",
      "21\n",
      "22\n",
      "23\n",
      "24\n",
      "25\n",
      "26\n",
      "27\n",
      "28\n",
      "29\n",
      "30\n",
      "31\n",
      "32\n",
      "33\n",
      "34\n",
      "35\n",
      "36\n",
      "37\n",
      "38\n",
      "39\n",
      "40\n",
      "41\n",
      "42\n",
      "43\n",
      "44\n",
      "45\n",
      "46\n",
      "47\n",
      "48\n",
      "49\n",
      "50\n",
      "51\n",
      "52\n",
      "53\n",
      "54\n",
      "55\n",
      "56\n",
      "57\n",
      "58\n",
      "59\n",
      "60\n",
      "61\n",
      "62\n",
      "63\n",
      "64\n",
      "65\n",
      "66\n",
      "67\n",
      "68\n",
      "69\n",
      "70\n",
      "71\n",
      "72\n",
      "73\n",
      "74\n",
      "75\n",
      "76\n",
      "77\n",
      "78\n",
      "79\n",
      "80\n",
      "81\n",
      "82\n",
      "83\n",
      "84\n"
     ]
    }
   ],
   "source": [
    "for raster in raster_arr:\n",
    "    array_of_arrays.append(np.array(raster.read()).ravel())\n",
    "    print(len(array_of_arrays))"
   ]
  },
  {
   "cell_type": "code",
   "execution_count": 14,
   "metadata": {},
   "outputs": [],
   "source": [
    "ix = 0\n",
    "for i in result:\n",
    "    with rasterio.open('layers/out/sometimes_i_want_to_die/layer_' + str(ix) + '.asc', 'w', \n",
    "                       driver=raster.driver, \n",
    "                       width=raster.width, height=raster.height, \n",
    "                       count=raster.count, \n",
    "                       dtype=raster.dtypes[0],\n",
    "                       nodata=raster.nodata,\n",
    "                       transform=raster.transform) as dst:\n",
    "            dst.write(np.array(i).reshape(raster.shape), 1)\n",
    "    ix = ix + 1"
   ]
  },
  {
   "cell_type": "code",
   "execution_count": 52,
   "metadata": {},
   "outputs": [],
   "source": [
    "# делаем в 2 шага:\n",
    "# берём 1 массив, для него присваиваем все нули из других массивов.\n",
    "# затем, для всех оставшихся массивов присваиваем нули из исходного массива\n",
    "\n",
    "origin_arr = array_of_arrays[0]\n",
    "almost_arr = array_of_arrays[1:]"
   ]
  },
  {
   "cell_type": "code",
   "execution_count": 53,
   "metadata": {},
   "outputs": [],
   "source": [
    "for arr in almost_arr:\n",
    "    for i in range(0, len(origin_arr)):    # хожу по всему большому массиву\n",
    "        if arr[i] == no_data:\n",
    "            origin_arr[i] = no_data"
   ]
  },
  {
   "cell_type": "code",
   "execution_count": 54,
   "metadata": {},
   "outputs": [],
   "source": [
    "for arr in almost_arr:\n",
    "    for i in range(0, len(origin_arr)):    # хожу по всему большому массиву\n",
    "        if origin_arr[i] == no_data:\n",
    "            arr[i] = no_data"
   ]
  },
  {
   "cell_type": "code",
   "execution_count": 55,
   "metadata": {},
   "outputs": [],
   "source": [
    "almost_arr.insert(0, origin_arr_arr)"
   ]
  },
  {
   "cell_type": "code",
   "execution_count": 56,
   "metadata": {},
   "outputs": [
    {
     "data": {
      "text/plain": [
       "84"
      ]
     },
     "execution_count": 56,
     "metadata": {},
     "output_type": "execute_result"
    }
   ],
   "source": [
    "len(almost_arr)"
   ]
  },
  {
   "cell_type": "code",
   "execution_count": 58,
   "metadata": {},
   "outputs": [
    {
     "name": "stdout",
     "output_type": "stream",
     "text": [
      "84 0\n"
     ]
    }
   ],
   "source": [
    "r = 0\n",
    "z = 0\n",
    "for i in almost_arr:\n",
    "    s = len(i[i!=-9999])\n",
    "    if s == 4135160:\n",
    "        r = r + 1\n",
    "    if s != 4135160:\n",
    "        z = z + 1                #                   Не уж то работает ?)))\n",
    "print(r, z)"
   ]
  },
  {
   "cell_type": "code",
   "execution_count": 20,
   "metadata": {},
   "outputs": [],
   "source": [
    "names = []\n",
    "for r in raster_arr:\n",
    "    names.append(r.name[10:])"
   ]
  },
  {
   "cell_type": "code",
   "execution_count": 67,
   "metadata": {},
   "outputs": [
    {
     "data": {
      "text/plain": [
       "84"
      ]
     },
     "execution_count": 67,
     "metadata": {},
     "output_type": "execute_result"
    }
   ],
   "source": [
    "len(names)"
   ]
  },
  {
   "cell_type": "code",
   "execution_count": 69,
   "metadata": {},
   "outputs": [],
   "source": [
    "ix = 0\n",
    "for i in almost_arr:\n",
    "    with rasterio.open('layers/out/sometimes_i_want_to_live/' + names[ix], 'w', \n",
    "                       driver=raster.driver, \n",
    "                       width=raster.width, height=raster.height, \n",
    "                       count=raster.count, \n",
    "                       dtype=raster.dtypes[0],\n",
    "                       nodata=raster.nodata,\n",
    "                       transform=raster.transform) as dst:\n",
    "            dst.write(i.reshape(raster.shape), 1)\n",
    "    ix = ix + 1"
   ]
  },
  {
   "cell_type": "code",
   "execution_count": null,
   "metadata": {},
   "outputs": [],
   "source": [
    "# проверяем в qgis всё это дело\n",
    "\n",
    "# РАБОТАЕТ!!!"
   ]
  },
  {
   "cell_type": "code",
   "execution_count": 49,
   "metadata": {},
   "outputs": [
    {
     "name": "stdout",
     "output_type": "stream",
     "text": [
      "43 41\n"
     ]
    }
   ],
   "source": [
    "r = 0\n",
    "z = 0\n",
    "for i in result:\n",
    "    s = len(i[i!=-9999])\n",
    "    if s == 4135160:\n",
    "        r = r + 1\n",
    "    if s != 4135160:\n",
    "        z = z + 1\n",
    "print(r, z)"
   ]
  },
  {
   "cell_type": "code",
   "execution_count": 1,
   "metadata": {},
   "outputs": [],
   "source": [
    "raster_arr = []\n",
    "array_of_arrs = []\n",
    "path = 'layers/out/sometimes_i_want_to_live/'"
   ]
  },
  {
   "cell_type": "code",
   "execution_count": 4,
   "metadata": {},
   "outputs": [],
   "source": [
    "for i in range(2, 11):\n",
    "    for j in range(1, 8):\n",
    "        filename = str(i) + '.band' + str(j) + '.asc'\n",
    "        if i != 10:\n",
    "            filename = '0' + filename\n",
    "        raster_arr.append(rasterio.open(path + filename))\n",
    "        \n",
    "for i in range(1, 20):\n",
    "    raster_arr.append(rasterio.open(path + 'bio_' + str(i) + '.asc'))\n",
    "    \n",
    "raster_arr.append(rasterio.open(path + 'alt.asc'))\n",
    "raster_arr.append(rasterio.open(path + 'krutizna.asc'))"
   ]
  },
  {
   "cell_type": "code",
   "execution_count": 5,
   "metadata": {
    "scrolled": true
   },
   "outputs": [
    {
     "name": "stdout",
     "output_type": "stream",
     "text": [
      "1\n",
      "2\n",
      "3\n",
      "4\n",
      "5\n",
      "6\n",
      "7\n",
      "8\n",
      "9\n",
      "10\n",
      "11\n",
      "12\n",
      "13\n",
      "14\n",
      "15\n",
      "16\n",
      "17\n",
      "18\n",
      "19\n",
      "20\n",
      "21\n",
      "22\n",
      "23\n",
      "24\n",
      "25\n",
      "26\n",
      "27\n",
      "28\n",
      "29\n",
      "30\n",
      "31\n",
      "32\n",
      "33\n",
      "34\n",
      "35\n",
      "36\n",
      "37\n",
      "38\n",
      "39\n",
      "40\n",
      "41\n",
      "42\n",
      "43\n",
      "44\n",
      "45\n",
      "46\n",
      "47\n",
      "48\n",
      "49\n",
      "50\n",
      "51\n",
      "52\n",
      "53\n",
      "54\n",
      "55\n",
      "56\n",
      "57\n",
      "58\n",
      "59\n",
      "60\n",
      "61\n",
      "62\n",
      "63\n",
      "64\n",
      "65\n",
      "66\n",
      "67\n",
      "68\n",
      "69\n",
      "70\n",
      "71\n",
      "72\n",
      "73\n",
      "74\n",
      "75\n",
      "76\n",
      "77\n",
      "78\n",
      "79\n",
      "80\n",
      "81\n",
      "82\n",
      "83\n",
      "84\n"
     ]
    }
   ],
   "source": [
    "for raster in raster_arr:\n",
    "    array_of_arrs.append(np.array(raster.read()).ravel())\n",
    "    print(len(array_of_arrs))"
   ]
  },
  {
   "cell_type": "code",
   "execution_count": 6,
   "metadata": {},
   "outputs": [],
   "source": [
    "nodata_arrs = []\n",
    "for item in array_of_arrs:\n",
    "    nodata_arrs.append(item[item!=raster_arr[0].nodata])"
   ]
  },
  {
   "cell_type": "code",
   "execution_count": 7,
   "metadata": {},
   "outputs": [
    {
     "data": {
      "text/plain": [
       "(84, 4135160)"
      ]
     },
     "execution_count": 7,
     "metadata": {},
     "output_type": "execute_result"
    }
   ],
   "source": [
    "np.array(nodata_arrs).shape"
   ]
  },
  {
   "cell_type": "code",
   "execution_count": 8,
   "metadata": {},
   "outputs": [],
   "source": [
    "pca = PCA(n_components=len(nodata_arrs))"
   ]
  },
  {
   "cell_type": "code",
   "execution_count": 12,
   "metadata": {},
   "outputs": [
    {
     "data": {
      "text/plain": [
       "84"
      ]
     },
     "execution_count": 12,
     "metadata": {},
     "output_type": "execute_result"
    }
   ],
   "source": [
    "pca.n_components"
   ]
  },
  {
   "cell_type": "code",
   "execution_count": 9,
   "metadata": {},
   "outputs": [],
   "source": [
    "names = []\n",
    "for r in raster_arr:\n",
    "    names.append(r.name[36:])"
   ]
  },
  {
   "cell_type": "code",
   "execution_count": 10,
   "metadata": {},
   "outputs": [],
   "source": [
    "df = pd.DataFrame()"
   ]
  },
  {
   "cell_type": "code",
   "execution_count": 11,
   "metadata": {},
   "outputs": [],
   "source": [
    "for it in range(0, 84):\n",
    "    df[names[it]] = nodata_arrs[it]"
   ]
  },
  {
   "cell_type": "code",
   "execution_count": 51,
   "metadata": {},
   "outputs": [
    {
     "data": {
      "text/html": [
       "<div>\n",
       "<style scoped>\n",
       "    .dataframe tbody tr th:only-of-type {\n",
       "        vertical-align: middle;\n",
       "    }\n",
       "\n",
       "    .dataframe tbody tr th {\n",
       "        vertical-align: top;\n",
       "    }\n",
       "\n",
       "    .dataframe thead th {\n",
       "        text-align: right;\n",
       "    }\n",
       "</style>\n",
       "<table border=\"1\" class=\"dataframe\">\n",
       "  <thead>\n",
       "    <tr style=\"text-align: right;\">\n",
       "      <th></th>\n",
       "      <th>02.band1.asc</th>\n",
       "      <th>02.band2.asc</th>\n",
       "      <th>02.band3.asc</th>\n",
       "      <th>02.band4.asc</th>\n",
       "      <th>02.band5.asc</th>\n",
       "      <th>02.band6.asc</th>\n",
       "      <th>02.band7.asc</th>\n",
       "      <th>03.band1.asc</th>\n",
       "      <th>03.band2.asc</th>\n",
       "      <th>03.band3.asc</th>\n",
       "      <th>...</th>\n",
       "      <th>bio_12.asc</th>\n",
       "      <th>bio_13.asc</th>\n",
       "      <th>bio_14.asc</th>\n",
       "      <th>bio_15.asc</th>\n",
       "      <th>bio_16.asc</th>\n",
       "      <th>bio_17.asc</th>\n",
       "      <th>bio_18.asc</th>\n",
       "      <th>bio_19.asc</th>\n",
       "      <th>alt.asc</th>\n",
       "      <th>krutizna.asc</th>\n",
       "    </tr>\n",
       "  </thead>\n",
       "  <tbody>\n",
       "    <tr>\n",
       "      <th>0</th>\n",
       "      <td>7234</td>\n",
       "      <td>6268</td>\n",
       "      <td>8752</td>\n",
       "      <td>8166</td>\n",
       "      <td>3966</td>\n",
       "      <td>1846</td>\n",
       "      <td>1404</td>\n",
       "      <td>6255</td>\n",
       "      <td>5174</td>\n",
       "      <td>8302</td>\n",
       "      <td>...</td>\n",
       "      <td>191</td>\n",
       "      <td>30</td>\n",
       "      <td>9</td>\n",
       "      <td>47</td>\n",
       "      <td>81</td>\n",
       "      <td>30</td>\n",
       "      <td>81</td>\n",
       "      <td>30</td>\n",
       "      <td>25</td>\n",
       "      <td>127</td>\n",
       "    </tr>\n",
       "    <tr>\n",
       "      <th>1</th>\n",
       "      <td>7934</td>\n",
       "      <td>7117</td>\n",
       "      <td>9071</td>\n",
       "      <td>8698</td>\n",
       "      <td>4609</td>\n",
       "      <td>2036</td>\n",
       "      <td>1636</td>\n",
       "      <td>7493</td>\n",
       "      <td>7221</td>\n",
       "      <td>8619</td>\n",
       "      <td>...</td>\n",
       "      <td>191</td>\n",
       "      <td>30</td>\n",
       "      <td>9</td>\n",
       "      <td>47</td>\n",
       "      <td>81</td>\n",
       "      <td>30</td>\n",
       "      <td>81</td>\n",
       "      <td>30</td>\n",
       "      <td>30</td>\n",
       "      <td>-508</td>\n",
       "    </tr>\n",
       "    <tr>\n",
       "      <th>2</th>\n",
       "      <td>8083</td>\n",
       "      <td>7245</td>\n",
       "      <td>9154</td>\n",
       "      <td>8842</td>\n",
       "      <td>4535</td>\n",
       "      <td>1972</td>\n",
       "      <td>1629</td>\n",
       "      <td>6958</td>\n",
       "      <td>6420</td>\n",
       "      <td>7636</td>\n",
       "      <td>...</td>\n",
       "      <td>189</td>\n",
       "      <td>30</td>\n",
       "      <td>9</td>\n",
       "      <td>46</td>\n",
       "      <td>80</td>\n",
       "      <td>30</td>\n",
       "      <td>79</td>\n",
       "      <td>30</td>\n",
       "      <td>18</td>\n",
       "      <td>-17</td>\n",
       "    </tr>\n",
       "    <tr>\n",
       "      <th>3</th>\n",
       "      <td>8208</td>\n",
       "      <td>7433</td>\n",
       "      <td>9299</td>\n",
       "      <td>8986</td>\n",
       "      <td>4230</td>\n",
       "      <td>2274</td>\n",
       "      <td>1318</td>\n",
       "      <td>7149</td>\n",
       "      <td>6494</td>\n",
       "      <td>8494</td>\n",
       "      <td>...</td>\n",
       "      <td>189</td>\n",
       "      <td>30</td>\n",
       "      <td>9</td>\n",
       "      <td>46</td>\n",
       "      <td>80</td>\n",
       "      <td>30</td>\n",
       "      <td>79</td>\n",
       "      <td>30</td>\n",
       "      <td>9</td>\n",
       "      <td>228</td>\n",
       "    </tr>\n",
       "    <tr>\n",
       "      <th>4</th>\n",
       "      <td>8619</td>\n",
       "      <td>7915</td>\n",
       "      <td>9255</td>\n",
       "      <td>9197</td>\n",
       "      <td>4393</td>\n",
       "      <td>2212</td>\n",
       "      <td>1135</td>\n",
       "      <td>7586</td>\n",
       "      <td>6878</td>\n",
       "      <td>8657</td>\n",
       "      <td>...</td>\n",
       "      <td>188</td>\n",
       "      <td>30</td>\n",
       "      <td>9</td>\n",
       "      <td>46</td>\n",
       "      <td>80</td>\n",
       "      <td>30</td>\n",
       "      <td>79</td>\n",
       "      <td>30</td>\n",
       "      <td>2</td>\n",
       "      <td>25</td>\n",
       "    </tr>\n",
       "  </tbody>\n",
       "</table>\n",
       "<p>5 rows × 84 columns</p>\n",
       "</div>"
      ],
      "text/plain": [
       "   02.band1.asc  02.band2.asc  02.band3.asc  02.band4.asc  02.band5.asc  \\\n",
       "0          7234          6268          8752          8166          3966   \n",
       "1          7934          7117          9071          8698          4609   \n",
       "2          8083          7245          9154          8842          4535   \n",
       "3          8208          7433          9299          8986          4230   \n",
       "4          8619          7915          9255          9197          4393   \n",
       "\n",
       "   02.band6.asc  02.band7.asc  03.band1.asc  03.band2.asc  03.band3.asc  ...  \\\n",
       "0          1846          1404          6255          5174          8302  ...   \n",
       "1          2036          1636          7493          7221          8619  ...   \n",
       "2          1972          1629          6958          6420          7636  ...   \n",
       "3          2274          1318          7149          6494          8494  ...   \n",
       "4          2212          1135          7586          6878          8657  ...   \n",
       "\n",
       "   bio_12.asc  bio_13.asc  bio_14.asc  bio_15.asc  bio_16.asc  bio_17.asc  \\\n",
       "0         191          30           9          47          81          30   \n",
       "1         191          30           9          47          81          30   \n",
       "2         189          30           9          46          80          30   \n",
       "3         189          30           9          46          80          30   \n",
       "4         188          30           9          46          80          30   \n",
       "\n",
       "   bio_18.asc  bio_19.asc  alt.asc  krutizna.asc  \n",
       "0          81          30       25           127  \n",
       "1          81          30       30          -508  \n",
       "2          79          30       18           -17  \n",
       "3          79          30        9           228  \n",
       "4          79          30        2            25  \n",
       "\n",
       "[5 rows x 84 columns]"
      ]
     },
     "execution_count": 51,
     "metadata": {},
     "output_type": "execute_result"
    }
   ],
   "source": [
    "df.head()"
   ]
  },
  {
   "cell_type": "code",
   "execution_count": 12,
   "metadata": {},
   "outputs": [],
   "source": [
    "components = pca.fit_transform(df)"
   ]
  },
  {
   "cell_type": "code",
   "execution_count": 53,
   "metadata": {},
   "outputs": [
    {
     "data": {
      "text/plain": [
       "(4135160, 84)"
      ]
     },
     "execution_count": 53,
     "metadata": {},
     "output_type": "execute_result"
    }
   ],
   "source": [
    "components.shape"
   ]
  },
  {
   "cell_type": "code",
   "execution_count": null,
   "metadata": {},
   "outputs": [],
   "source": [
    "#=========================================================\n",
    "\n",
    "# Все атрибуты полученной модели PCA"
   ]
  },
  {
   "cell_type": "code",
   "execution_count": 13,
   "metadata": {},
   "outputs": [
    {
     "name": "stdout",
     "output_type": "stream",
     "text": [
      "noise_variance_ :  0.0\n",
      "sum of explained_variance_ratio_ :  1.0000000000000002\n",
      "n_components_ :  84\n",
      "explained_variance_ratio_ :  \n",
      " [6.32099884e-01 8.15973998e-02 8.06054167e-02 4.85459745e-02\n",
      " 3.34633069e-02 2.47864117e-02 1.83374625e-02 1.03879562e-02\n",
      " 9.21944469e-03 8.06552870e-03 6.65000049e-03 5.55520751e-03\n",
      " 5.10431542e-03 4.55935645e-03 4.16387518e-03 3.33465138e-03\n",
      " 2.69083770e-03 2.54592029e-03 2.26924626e-03 2.06223875e-03\n",
      " 1.91501063e-03 1.65213099e-03 1.29552589e-03 9.45626567e-04\n",
      " 9.02991892e-04 7.84447360e-04 6.91104218e-04 5.16994375e-04\n",
      " 4.70747498e-04 4.48391419e-04 4.02578951e-04 3.92351048e-04\n",
      " 3.78320378e-04 2.95312439e-04 2.83186747e-04 2.51804648e-04\n",
      " 2.19079928e-04 1.80853909e-04 1.76381392e-04 1.69097099e-04\n",
      " 1.53667131e-04 1.33784748e-04 1.31698484e-04 1.23815374e-04\n",
      " 1.08493186e-04 1.03137188e-04 9.81602051e-05 8.85144841e-05\n",
      " 7.33758618e-05 6.53278185e-05 5.87532351e-05 5.66062901e-05\n",
      " 5.24520380e-05 4.82468361e-05 4.02631970e-05 3.41444282e-05\n",
      " 2.92379520e-05 2.59464173e-05 2.27257244e-05 2.09063872e-05\n",
      " 1.80889760e-05 1.61402543e-05 1.56391625e-05 1.44546874e-05\n",
      " 9.99052087e-06 9.31757327e-06 8.37076544e-06 7.12830947e-06\n",
      " 6.06168218e-06 4.26345857e-06 2.11212906e-06 1.66739170e-06\n",
      " 4.65049557e-07 1.74130557e-07 1.57619086e-07 1.01092680e-07\n",
      " 8.75774674e-08 6.33701577e-08 5.20247596e-08 2.18280717e-08\n",
      " 6.63314421e-09 4.00996052e-09 1.91613817e-09 4.03128938e-33]\n",
      "\n",
      "\n",
      "explained_variance_ :  \n",
      " [9.77765067e+07 1.26219114e+07 1.24684662e+07 7.50934451e+06\n",
      " 5.17627884e+06 3.83409143e+06 2.83653434e+06 1.60686324e+06\n",
      " 1.42611179e+06 1.24761804e+06 1.02865676e+06 8.59308471e+05\n",
      " 7.89562131e+05 7.05265035e+05 6.44089929e+05 5.15821267e+05\n",
      " 4.16232810e+05 3.93816228e+05 3.51018846e+05 3.18997845e+05\n",
      " 2.96223832e+05 2.55560237e+05 2.00398702e+05 1.46274449e+05\n",
      " 1.39679495e+05 1.21342409e+05 1.06903605e+05 7.99713862e+04\n",
      " 7.28176781e+04 6.93595232e+04 6.22730118e+04 6.06909063e+04\n",
      " 5.85205691e+04 4.56804682e+04 4.38048030e+04 3.89504561e+04\n",
      " 3.38884258e+04 2.79754258e+04 2.72835936e+04 2.61568211e+04\n",
      " 2.37700332e+04 2.06945226e+04 2.03718083e+04 1.91524078e+04\n",
      " 1.67822918e+04 1.59537981e+04 1.51839325e+04 1.36918820e+04\n",
      " 1.13501610e+04 1.01052477e+04 9.08825682e+03 8.75615618e+03\n",
      " 8.11355479e+03 7.46307223e+03 6.22812129e+03 5.28163823e+03\n",
      " 4.52267890e+03 4.01352714e+03 3.51533357e+03 3.23390900e+03\n",
      " 2.79809715e+03 2.49665871e+03 2.41914722e+03 2.23592644e+03\n",
      " 1.54538587e+03 1.44129083e+03 1.29483365e+03 1.10264409e+03\n",
      " 9.37652614e+02 6.59494007e+02 3.26715139e+02 2.57920844e+02\n",
      " 7.19362909e+01 2.69354227e+01 2.43813422e+01 1.56375430e+01\n",
      " 1.35469394e+01 9.80242648e+00 8.04746114e+00 3.37647997e+00\n",
      " 1.02604934e+00 6.20281606e-01 2.96398246e-01 6.23580866e-25]\n",
      "\n",
      "\n",
      "{'copy': True, 'iterated_power': 'auto', 'n_components': 84, 'random_state': None, 'svd_solver': 'auto', 'tol': 0.0, 'whiten': False}\n"
     ]
    }
   ],
   "source": [
    "print('noise_variance_ : ', pca.noise_variance_)\n",
    "print('sum of explained_variance_ratio_ : ', sum(pca.explained_variance_ratio_))\n",
    "print('n_components_ : ', pca.n_components_)\n",
    "print('explained_variance_ratio_ : ', '\\n',pca.explained_variance_ratio_)\n",
    "print('\\n')\n",
    "print('explained_variance_ : ', '\\n', pca.explained_variance_)\n",
    "print('\\n')\n",
    "\n",
    "pd.DataFrame(pca.get_covariance(), columns=df.columns).to_csv('pca_84_covariance.csv')\n",
    "pd.DataFrame(pca.get_precision(), columns=df.columns).to_csv('pca_84_precision.csv')\n",
    "print(pca.get_params())"
   ]
  },
  {
   "cell_type": "code",
   "execution_count": 11,
   "metadata": {},
   "outputs": [],
   "source": [
    "components_arrs = [] "
   ]
  },
  {
   "cell_type": "code",
   "execution_count": 12,
   "metadata": {},
   "outputs": [],
   "source": [
    "for i in range(0, 84):  # idiot\n",
    "    components_arrs.append([])\n",
    "    for j in components:\n",
    "        components_arrs[i].append(int(j[i]))"
   ]
  },
  {
   "cell_type": "code",
   "execution_count": 59,
   "metadata": {
    "scrolled": true
   },
   "outputs": [
    {
     "data": {
      "text/plain": [
       "(84, 4135160)"
      ]
     },
     "execution_count": 59,
     "metadata": {},
     "output_type": "execute_result"
    }
   ],
   "source": [
    "np.array(components_arrs).shape"
   ]
  },
  {
   "cell_type": "code",
   "execution_count": 92,
   "metadata": {},
   "outputs": [
    {
     "data": {
      "text/plain": [
       "-9999.0"
      ]
     },
     "execution_count": 92,
     "metadata": {},
     "output_type": "execute_result"
    }
   ],
   "source": [
    "raster.nodata"
   ]
  },
  {
   "cell_type": "code",
   "execution_count": 93,
   "metadata": {},
   "outputs": [
    {
     "name": "stdout",
     "output_type": "stream",
     "text": [
      "84\n",
      "84\n"
     ]
    }
   ],
   "source": [
    "print(len(array_of_arrs))\n",
    "print(len(components_arrs))"
   ]
  },
  {
   "cell_type": "code",
   "execution_count": 14,
   "metadata": {},
   "outputs": [
    {
     "data": {
      "text/plain": [
       "-9999"
      ]
     },
     "execution_count": 14,
     "metadata": {},
     "output_type": "execute_result"
    }
   ],
   "source": [
    "array_of_arrs[0][0]"
   ]
  },
  {
   "cell_type": "code",
   "execution_count": 24,
   "metadata": {},
   "outputs": [
    {
     "data": {
      "text/plain": [
       "16000"
      ]
     },
     "execution_count": 24,
     "metadata": {},
     "output_type": "execute_result"
    }
   ],
   "source": [
    "max(array_of_arrs[0])"
   ]
  },
  {
   "cell_type": "code",
   "execution_count": 25,
   "metadata": {},
   "outputs": [
    {
     "data": {
      "text/plain": [
       "35980"
      ]
     },
     "execution_count": 25,
     "metadata": {},
     "output_type": "execute_result"
    }
   ],
   "source": [
    "max(components_arrs[0])"
   ]
  },
  {
   "cell_type": "code",
   "execution_count": 23,
   "metadata": {},
   "outputs": [],
   "source": [
    "origin_arr = components_arrs[0]\n",
    "target_arr = array_of_arrs[0]"
   ]
  },
  {
   "cell_type": "code",
   "execution_count": 26,
   "metadata": {},
   "outputs": [],
   "source": [
    "i = 0\n",
    "for element_n in range(0, len(target_arr)):\n",
    "    if target_arr[element_n] != -9999:\n",
    "        target_arr[element_n] = origin_arr[i]\n",
    "        i = i + 1"
   ]
  },
  {
   "cell_type": "code",
   "execution_count": 28,
   "metadata": {},
   "outputs": [
    {
     "data": {
      "text/plain": [
       "9780108"
      ]
     },
     "execution_count": 28,
     "metadata": {},
     "output_type": "execute_result"
    }
   ],
   "source": [
    "len(target_arr)"
   ]
  },
  {
   "cell_type": "code",
   "execution_count": 29,
   "metadata": {},
   "outputs": [
    {
     "name": "stdout",
     "output_type": "stream",
     "text": [
      "35980\n"
     ]
    }
   ],
   "source": [
    "print(max(target_arr))"
   ]
  },
  {
   "cell_type": "code",
   "execution_count": 30,
   "metadata": {},
   "outputs": [
    {
     "data": {
      "text/plain": [
       "35980"
      ]
     },
     "execution_count": 30,
     "metadata": {},
     "output_type": "execute_result"
    }
   ],
   "source": [
    "max(array_of_arrs[0])"
   ]
  },
  {
   "cell_type": "code",
   "execution_count": 31,
   "metadata": {
    "scrolled": true
   },
   "outputs": [
    {
     "name": "stdout",
     "output_type": "stream",
     "text": [
      "0 0\n",
      "0 1\n",
      "0 2\n",
      "0 3\n",
      "0 4\n",
      "0 5\n",
      "0 6\n",
      "0 7\n",
      "0 8\n",
      "0 9\n",
      "0 10\n",
      "0 11\n",
      "0 12\n",
      "0 13\n",
      "0 14\n",
      "0 15\n",
      "0 16\n",
      "0 17\n",
      "0 18\n",
      "0 19\n",
      "0 20\n",
      "0 21\n",
      "0 22\n",
      "0 23\n",
      "0 24\n",
      "0 25\n",
      "0 26\n",
      "0 27\n",
      "0 28\n",
      "0 29\n",
      "0 30\n",
      "0 31\n",
      "0 32\n",
      "0 33\n",
      "0 34\n",
      "0 35\n",
      "0 36\n",
      "0 37\n",
      "0 38\n",
      "0 39\n",
      "0 40\n",
      "0 41\n",
      "0 42\n",
      "0 43\n",
      "0 44\n",
      "0 45\n",
      "0 46\n",
      "0 47\n",
      "0 48\n",
      "0 49\n",
      "0 50\n",
      "0 51\n",
      "0 52\n",
      "0 53\n",
      "0 54\n",
      "0 55\n",
      "0 56\n",
      "0 57\n",
      "0 58\n",
      "0 59\n",
      "0 60\n",
      "0 61\n",
      "0 62\n",
      "0 63\n",
      "0 64\n",
      "0 65\n",
      "0 66\n",
      "0 67\n",
      "0 68\n",
      "0 69\n",
      "0 70\n",
      "0 71\n",
      "0 72\n",
      "0 73\n",
      "0 74\n",
      "0 75\n",
      "0 76\n",
      "0 77\n",
      "0 78\n",
      "0 79\n",
      "0 80\n",
      "0 81\n",
      "0 82\n",
      "0 83\n"
     ]
    }
   ],
   "source": [
    "for item in range(0, len(array_of_arrs)):\n",
    "    y = 0\n",
    "    print(y, item)\n",
    "    for element_n in range(0, len(array_of_arrs[item])):\n",
    "        if array_of_arrs[item][element_n] != raster.nodata:\n",
    "            array_of_arrs[item][element_n] = components_arrs[item][y]\n",
    "            y = y + 1"
   ]
  },
  {
   "cell_type": "code",
   "execution_count": 39,
   "metadata": {},
   "outputs": [
    {
     "data": {
      "text/plain": [
       "array([[1.       , 0.6092264],\n",
       "       [0.6092264, 1.       ]])"
      ]
     },
     "execution_count": 39,
     "metadata": {},
     "output_type": "execute_result"
    }
   ],
   "source": [
    "np.corrcoef(array_of_arrs[0], array_of_arrs[80])"
   ]
  },
  {
   "cell_type": "code",
   "execution_count": 43,
   "metadata": {},
   "outputs": [],
   "source": [
    "pd.DataFrame(pca.components_, columns=df.columns).to_csv('pca_analysis_84_FIN.csv')"
   ]
  },
  {
   "cell_type": "code",
   "execution_count": 45,
   "metadata": {},
   "outputs": [
    {
     "data": {
      "text/plain": [
       "<open DatasetReader name='layers/out/sometimes_i_want_to_live/krutizna.asc' mode='r'>"
      ]
     },
     "execution_count": 45,
     "metadata": {},
     "output_type": "execute_result"
    }
   ],
   "source": [
    "raster"
   ]
  },
  {
   "cell_type": "code",
   "execution_count": 47,
   "metadata": {},
   "outputs": [],
   "source": [
    "ix = 0\n",
    "for i in array_of_arrs:\n",
    "    with rasterio.open('layers/out/components_layers_84_FIN/' + 'componenta_' + str(ix), 'w', \n",
    "                       driver=raster.driver, \n",
    "                       width=raster.width, height=raster.height, \n",
    "                       count=raster.count, \n",
    "                       dtype=raster.dtypes[0],\n",
    "                       nodata=raster.nodata,\n",
    "                       transform=raster.transform) as dst:\n",
    "            dst.write(i.reshape(raster.shape), 1)\n",
    "    ix = ix + 1"
   ]
  },
  {
   "cell_type": "code",
   "execution_count": null,
   "metadata": {},
   "outputs": [],
   "source": []
  },
  {
   "cell_type": "code",
   "execution_count": 87,
   "metadata": {},
   "outputs": [],
   "source": [
    "# arr = array_of_arrs[0]\n",
    "# for item in components_arrs:\n",
    "#     for i in range(0, len(arr)):\n",
    "#         print(ind)\n",
    "#         if arr[ind] == raster.nodata:\n",
    "#             item.insert(i, raster.nodata)\n",
    "#     ind = ind + 1"
   ]
  },
  {
   "cell_type": "code",
   "execution_count": 85,
   "metadata": {},
   "outputs": [
    {
     "data": {
      "text/plain": [
       "array([-9999, -9999, -9999, ..., -9999, -9999, -9999])"
      ]
     },
     "execution_count": 85,
     "metadata": {},
     "output_type": "execute_result"
    }
   ],
   "source": [
    "arr"
   ]
  },
  {
   "cell_type": "code",
   "execution_count": 88,
   "metadata": {},
   "outputs": [],
   "source": [
    "# for comp in components_arrs:\n",
    "#     y = 0\n",
    "#     for i in arr:\n",
    "#         if i != raster.nodata:\n",
    "#             continue\n",
    "#         comp.insert(y, raster.nodata)\n",
    "#     print(y)"
   ]
  },
  {
   "cell_type": "code",
   "execution_count": 69,
   "metadata": {},
   "outputs": [
    {
     "data": {
      "text/plain": [
       "4135160"
      ]
     },
     "execution_count": 69,
     "metadata": {},
     "output_type": "execute_result"
    }
   ],
   "source": [
    "len(components_arrs[1])"
   ]
  }
 ],
 "metadata": {
  "kernelspec": {
   "display_name": "Python 3",
   "language": "python",
   "name": "python3"
  },
  "language_info": {
   "codemirror_mode": {
    "name": "ipython",
    "version": 3
   },
   "file_extension": ".py",
   "mimetype": "text/x-python",
   "name": "python",
   "nbconvert_exporter": "python",
   "pygments_lexer": "ipython3",
   "version": "3.6.5"
  }
 },
 "nbformat": 4,
 "nbformat_minor": 2
}
