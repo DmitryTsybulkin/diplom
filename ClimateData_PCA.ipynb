{
 "cells": [
  {
   "cell_type": "code",
   "execution_count": 1,
   "metadata": {},
   "outputs": [],
   "source": [
    "import numpy as np \n",
    "from sklearn.decomposition import PCA\n",
    "import rasterio\n",
    "from matplotlib import pyplot as plt\n",
    "import pandas as pd\n",
    "from rasterio.transform import from_origin\n",
    "\n",
    "import geopandas\n",
    "from shapely.geometry import Point\n",
    "import fiona\n",
    "\n",
    "# Непосредственно работа со всеми данными после строки с множеством знаков '=' не актуально\n",
    "# В начале: пробы - тесты (возможно, ошибки)\n"
   ]
  },
  {
   "cell_type": "code",
   "execution_count": 2,
   "metadata": {},
   "outputs": [
    {
     "ename": "FileNotFoundError",
     "evalue": "[WinError 2] Не удается найти указанный файл: 'componenta_0.asc' -> 'componenta_0'",
     "output_type": "error",
     "traceback": [
      "\u001b[1;31m---------------------------------------------------------------------------\u001b[0m",
      "\u001b[1;31mFileNotFoundError\u001b[0m                         Traceback (most recent call last)",
      "\u001b[1;32m<ipython-input-2-b51a104adc50>\u001b[0m in \u001b[0;36m<module>\u001b[1;34m\u001b[0m\n\u001b[0;32m      3\u001b[0m \u001b[1;32mimport\u001b[0m \u001b[0mos\u001b[0m\u001b[1;33m\u001b[0m\u001b[0m\n\u001b[0;32m      4\u001b[0m \u001b[1;32mfor\u001b[0m \u001b[0mfn\u001b[0m \u001b[1;32min\u001b[0m \u001b[0mos\u001b[0m\u001b[1;33m.\u001b[0m\u001b[0mlistdir\u001b[0m\u001b[1;33m(\u001b[0m\u001b[0mpath\u001b[0m\u001b[1;33m)\u001b[0m\u001b[1;33m:\u001b[0m\u001b[1;33m\u001b[0m\u001b[0m\n\u001b[1;32m----> 5\u001b[1;33m     \u001b[0mos\u001b[0m\u001b[1;33m.\u001b[0m\u001b[0mrename\u001b[0m\u001b[1;33m(\u001b[0m\u001b[0mfn\u001b[0m \u001b[1;33m+\u001b[0m \u001b[1;34m'.asc'\u001b[0m\u001b[1;33m,\u001b[0m \u001b[0mfn\u001b[0m\u001b[1;33m)\u001b[0m\u001b[1;33m\u001b[0m\u001b[0m\n\u001b[0m",
      "\u001b[1;31mFileNotFoundError\u001b[0m: [WinError 2] Не удается найти указанный файл: 'componenta_0.asc' -> 'componenta_0'"
     ]
    }
   ],
   "source": [
    "path = 'layers/out/components_layers_84_FIN/'\n",
    "\n",
    "import os\n",
    "for fn in os.listdir(path):\n",
    "    os.rename(fn, fn + '.asc')"
   ]
  },
  {
   "cell_type": "code",
   "execution_count": 2,
   "metadata": {},
   "outputs": [],
   "source": [
    "path = 'layers/in/' # путь до входных слоёв\n",
    "raster_arr = [] # тут будут растры\n",
    "array_of_arrays = [] # тут будут 1N массивы этих растров\n",
    "\n",
    "for i in range(1, 20):\n",
    "    raster_arr.append(rasterio.open(path + 'bio_' + str(i) + '.asc'))\n",
    "# читаю биоклиматические переменные\n",
    "\n",
    "raster_arr.append(rasterio.open(path + 'alt.asc'))\n",
    "raster_arr.append(rasterio.open(path + 'krutizna.asc'))\n",
    "\n",
    "for raster in raster_arr:\n",
    "    array_of_arrays.append(np.array(raster.read()).ravel())"
   ]
  },
  {
   "cell_type": "code",
   "execution_count": 3,
   "metadata": {},
   "outputs": [],
   "source": [
    "arrays_only_data = []"
   ]
  },
  {
   "cell_type": "code",
   "execution_count": 4,
   "metadata": {},
   "outputs": [],
   "source": [
    "for j in range(0, len(array_of_arrays)):\n",
    "    arrays_only_data.append(array_of_arrays[j][array_of_arrays[j]!=raster_arr[j].nodata])"
   ]
  },
  {
   "cell_type": "code",
   "execution_count": 26,
   "metadata": {
    "scrolled": true
   },
   "outputs": [
    {
     "name": "stdout",
     "output_type": "stream",
     "text": [
      "4196630\n",
      "4196630\n",
      "4196630\n",
      "4196630\n",
      "4196630\n",
      "4196630\n",
      "4196630\n",
      "4196630\n",
      "4196630\n",
      "4196630\n",
      "4196630\n",
      "4196630\n",
      "4196630\n",
      "4196630\n",
      "4196630\n",
      "4196630\n",
      "4196630\n",
      "4196630\n",
      "4196630\n",
      "4196630\n",
      "4196630\n"
     ]
    }
   ],
   "source": [
    "for i in range(0, len(arrays_only_data)):\n",
    "    print(len(arrays_only_data[i]))"
   ]
  },
  {
   "cell_type": "code",
   "execution_count": 27,
   "metadata": {},
   "outputs": [
    {
     "data": {
      "text/plain": [
       "21"
      ]
     },
     "execution_count": 27,
     "metadata": {},
     "output_type": "execute_result"
    }
   ],
   "source": [
    "len(arrays_only_data)"
   ]
  },
  {
   "cell_type": "code",
   "execution_count": 7,
   "metadata": {},
   "outputs": [],
   "source": [
    "df = pd.DataFrame()\n",
    "for i in range(0, 21):\n",
    "    df[raster_arr[i].name.replace('layers/in/', '')] = arrays_only_data[i]"
   ]
  },
  {
   "cell_type": "code",
   "execution_count": 8,
   "metadata": {},
   "outputs": [
    {
     "data": {
      "text/plain": [
       "(4196630, 21)"
      ]
     },
     "execution_count": 8,
     "metadata": {},
     "output_type": "execute_result"
    }
   ],
   "source": [
    "df.shape"
   ]
  },
  {
   "cell_type": "code",
   "execution_count": 9,
   "metadata": {},
   "outputs": [],
   "source": [
    "pca = PCA(n_components=len(raster_arr))"
   ]
  },
  {
   "cell_type": "code",
   "execution_count": 10,
   "metadata": {},
   "outputs": [
    {
     "data": {
      "text/plain": [
       "21"
      ]
     },
     "execution_count": 10,
     "metadata": {},
     "output_type": "execute_result"
    }
   ],
   "source": [
    "pca.n_components"
   ]
  },
  {
   "cell_type": "code",
   "execution_count": 11,
   "metadata": {},
   "outputs": [],
   "source": [
    "components = pca.fit_transform(df)"
   ]
  },
  {
   "cell_type": "code",
   "execution_count": 37,
   "metadata": {},
   "outputs": [
    {
     "name": "stdout",
     "output_type": "stream",
     "text": [
      "0.0\n",
      "0.9999999999999999\n",
      "21\n"
     ]
    }
   ],
   "source": [
    "print(pca.noise_variance_)\n",
    "print(sum(pca.explained_variance_ratio_))\n",
    "print(pca.n_components_)"
   ]
  },
  {
   "cell_type": "code",
   "execution_count": 28,
   "metadata": {},
   "outputs": [
    {
     "data": {
      "text/plain": [
       "(4196630, 21)"
      ]
     },
     "execution_count": 28,
     "metadata": {},
     "output_type": "execute_result"
    }
   ],
   "source": [
    "components.shape"
   ]
  },
  {
   "cell_type": "code",
   "execution_count": 34,
   "metadata": {},
   "outputs": [],
   "source": [
    "res_layers_arrs = [] "
   ]
  },
  {
   "cell_type": "code",
   "execution_count": 33,
   "metadata": {},
   "outputs": [],
   "source": [
    "for i in range(0, 21):  # idiot\n",
    "    res_layers_arrs.append([])\n",
    "    for j in components:\n",
    "        res_layers_arrs[i].append(int(j[i]))"
   ]
  },
  {
   "cell_type": "code",
   "execution_count": 29,
   "metadata": {},
   "outputs": [
    {
     "data": {
      "text/plain": [
       "[array([ 2.24144345e+03, -3.13806235e+02, -5.84482399e+01, -4.97626291e+02,\n",
       "         2.22563948e+02, -6.49794167e+01,  6.30340094e+01,  9.18035722e+00,\n",
       "        -2.87119455e+00, -2.59747275e+00,  1.02097585e+01, -4.49116325e+00,\n",
       "        -1.13068333e+00, -5.17528420e+00, -2.54879699e+00,  6.70768855e+00,\n",
       "         6.32026326e+00, -8.59128494e-01, -4.59128226e-01, -1.28136112e-01,\n",
       "         4.65974137e-10])]"
      ]
     },
     "execution_count": 29,
     "metadata": {},
     "output_type": "execute_result"
    }
   ],
   "source": [
    "res_layers_arrs"
   ]
  },
  {
   "cell_type": "code",
   "execution_count": 41,
   "metadata": {},
   "outputs": [
    {
     "data": {
      "text/plain": [
       "(21, 4196630)"
      ]
     },
     "execution_count": 41,
     "metadata": {},
     "output_type": "execute_result"
    }
   ],
   "source": [
    "np.array(res_layers_arrs).shape"
   ]
  },
  {
   "cell_type": "code",
   "execution_count": 14,
   "metadata": {},
   "outputs": [],
   "source": [
    "raster = raster_arr[0] #\n",
    "arr = array_of_arrays[0] #"
   ]
  },
  {
   "cell_type": "code",
   "execution_count": 81,
   "metadata": {},
   "outputs": [
    {
     "name": "stdout",
     "output_type": "stream",
     "text": [
      "21\n",
      "4196630\n"
     ]
    }
   ],
   "source": [
    "print(len(res_layers_arrs))\n",
    "print(len(res_layers_arrs[0]))"
   ]
  },
  {
   "cell_type": "code",
   "execution_count": 26,
   "metadata": {},
   "outputs": [],
   "source": [
    "first = res_layers_arrs[0] #"
   ]
  },
  {
   "cell_type": "code",
   "execution_count": 16,
   "metadata": {},
   "outputs": [
    {
     "ename": "NameError",
     "evalue": "name 'res_arr' is not defined",
     "output_type": "error",
     "traceback": [
      "\u001b[1;31m---------------------------------------------------------------------------\u001b[0m",
      "\u001b[1;31mNameError\u001b[0m                                 Traceback (most recent call last)",
      "\u001b[1;32m<ipython-input-16-eaa480c4b023>\u001b[0m in \u001b[0;36m<module>\u001b[1;34m\u001b[0m\n\u001b[0;32m      1\u001b[0m \u001b[1;32mfor\u001b[0m \u001b[0mi\u001b[0m \u001b[1;32min\u001b[0m \u001b[0mrange\u001b[0m\u001b[1;33m(\u001b[0m\u001b[1;36m0\u001b[0m\u001b[1;33m,\u001b[0m \u001b[1;36m21\u001b[0m\u001b[1;33m)\u001b[0m\u001b[1;33m:\u001b[0m\u001b[1;33m\u001b[0m\u001b[0m\n\u001b[1;32m----> 2\u001b[1;33m     \u001b[1;32mif\u001b[0m \u001b[0mraster_arr\u001b[0m\u001b[1;33m[\u001b[0m\u001b[0mi\u001b[0m\u001b[1;33m]\u001b[0m\u001b[1;33m.\u001b[0m\u001b[0mnodata\u001b[0m \u001b[1;32min\u001b[0m \u001b[0mres_arr\u001b[0m\u001b[1;33m[\u001b[0m\u001b[0mi\u001b[0m\u001b[1;33m]\u001b[0m\u001b[1;33m:\u001b[0m\u001b[1;33m\u001b[0m\u001b[0m\n\u001b[0m\u001b[0;32m      3\u001b[0m         \u001b[0mprint\u001b[0m\u001b[1;33m(\u001b[0m\u001b[1;34m'vse ploho'\u001b[0m\u001b[1;33m)\u001b[0m\u001b[1;33m\u001b[0m\u001b[0m\n",
      "\u001b[1;31mNameError\u001b[0m: name 'res_arr' is not defined"
     ]
    }
   ],
   "source": [
    "for i in range(0, 21):\n",
    "    if raster_arr[i].nodata in res_arr[i]:\n",
    "        print('vse ploho')"
   ]
  },
  {
   "cell_type": "code",
   "execution_count": 20,
   "metadata": {},
   "outputs": [
    {
     "data": {
      "text/plain": [
       "array([-9999, -9999, -9999, ..., -9999, -9999, -9999])"
      ]
     },
     "execution_count": 20,
     "metadata": {},
     "output_type": "execute_result"
    }
   ],
   "source": [
    "# for i in range(0, len(first)-1):\n",
    "#     ind = 0\n",
    "#     print(len(first))\n",
    "#     if arr[ind] == raster.nodata:\n",
    "#         first.insert(i, raster.nodata)\n",
    "#         ind = ind + 1\n",
    "\n",
    "# for i in arr:\n",
    "#     if i != raster.nodata:\n",
    "#         continue\n",
    "#     comp.insert(y, raster.nodata)\n",
    "# print(y)\n",
    "arr"
   ]
  },
  {
   "cell_type": "code",
   "execution_count": 27,
   "metadata": {},
   "outputs": [
    {
     "data": {
      "text/plain": [
       "array([ 2.24144345e+03, -3.13806235e+02, -5.84482399e+01, -4.97626291e+02,\n",
       "        2.22563948e+02, -6.49794167e+01,  6.30340094e+01,  9.18035722e+00,\n",
       "       -2.87119455e+00, -2.59747275e+00,  1.02097585e+01, -4.49116325e+00,\n",
       "       -1.13068333e+00, -5.17528420e+00, -2.54879699e+00,  6.70768855e+00,\n",
       "        6.32026326e+00, -8.59128494e-01, -4.59128226e-01, -1.28136112e-01,\n",
       "        4.65974137e-10])"
      ]
     },
     "execution_count": 27,
     "metadata": {},
     "output_type": "execute_result"
    }
   ],
   "source": [
    "\n",
    "first"
   ]
  },
  {
   "cell_type": "code",
   "execution_count": null,
   "metadata": {},
   "outputs": [],
   "source": []
  },
  {
   "cell_type": "code",
   "execution_count": 112,
   "metadata": {},
   "outputs": [
    {
     "data": {
      "text/plain": [
       "6125631"
      ]
     },
     "execution_count": 112,
     "metadata": {},
     "output_type": "execute_result"
    }
   ],
   "source": [
    "len(first)"
   ]
  },
  {
   "cell_type": "code",
   "execution_count": null,
   "metadata": {},
   "outputs": [],
   "source": [
    "with rasterio.open('layers/out/sometimes_i_want_to_die/layer_' + 'first' + '.asc', 'w', \n",
    "                       driver=raster.driver, \n",
    "                       width=raster.width, height=raster.height, \n",
    "                       count=raster.count, \n",
    "                       dtype=raster.dtypes[0],\n",
    "                       nodata=res_ras[0],\n",
    "                       transform=raster.transform) as dst:\n",
    "            dst.write(np.array(first).reshape(raster.shape), 1)"
   ]
  },
  {
   "cell_type": "code",
   "execution_count": 96,
   "metadata": {},
   "outputs": [
    {
     "name": "stdout",
     "output_type": "stream",
     "text": [
      "62939\n"
     ]
    }
   ],
   "source": [
    "j = 0\n",
    "for i in first:\n",
    "    if i != -9999:\n",
    "        print(j)\n",
    "        break\n",
    "    j = j + 1"
   ]
  },
  {
   "cell_type": "code",
   "execution_count": null,
   "metadata": {},
   "outputs": [],
   "source": [
    "res_layers_arrs[0][62938]"
   ]
  },
  {
   "cell_type": "code",
   "execution_count": 105,
   "metadata": {},
   "outputs": [
    {
     "data": {
      "text/plain": [
       "2241"
      ]
     },
     "execution_count": 105,
     "metadata": {},
     "output_type": "execute_result"
    }
   ],
   "source": [
    "first[62938]"
   ]
  },
  {
   "cell_type": "code",
   "execution_count": 69,
   "metadata": {},
   "outputs": [],
   "source": [
    "a = [0,1,2,3,4,5]"
   ]
  },
  {
   "cell_type": "code",
   "execution_count": 70,
   "metadata": {},
   "outputs": [
    {
     "data": {
      "text/plain": [
       "[0, 1, 2, 3, 4, 5]"
      ]
     },
     "execution_count": 70,
     "metadata": {},
     "output_type": "execute_result"
    }
   ],
   "source": [
    "a"
   ]
  },
  {
   "cell_type": "code",
   "execution_count": 71,
   "metadata": {},
   "outputs": [],
   "source": [
    "a.insert(0, 3)"
   ]
  },
  {
   "cell_type": "code",
   "execution_count": 72,
   "metadata": {},
   "outputs": [
    {
     "data": {
      "text/plain": [
       "[3, 0, 1, 2, 3, 4, 5]"
      ]
     },
     "execution_count": 72,
     "metadata": {},
     "output_type": "execute_result"
    }
   ],
   "source": [
    "a"
   ]
  },
  {
   "cell_type": "code",
   "execution_count": 73,
   "metadata": {},
   "outputs": [],
   "source": [
    "a.insert(3, 4)"
   ]
  },
  {
   "cell_type": "code",
   "execution_count": 74,
   "metadata": {},
   "outputs": [
    {
     "data": {
      "text/plain": [
       "[3, 0, 1, 4, 2, 3, 4, 5]"
      ]
     },
     "execution_count": 74,
     "metadata": {},
     "output_type": "execute_result"
    }
   ],
   "source": [
    "a"
   ]
  }
 ],
 "metadata": {
  "kernelspec": {
   "display_name": "Python 3",
   "language": "python",
   "name": "python3"
  },
  "language_info": {
   "codemirror_mode": {
    "name": "ipython",
    "version": 3
   },
   "file_extension": ".py",
   "mimetype": "text/x-python",
   "name": "python",
   "nbconvert_exporter": "python",
   "pygments_lexer": "ipython3",
   "version": "3.6.5"
  }
 },
 "nbformat": 4,
 "nbformat_minor": 2
}
